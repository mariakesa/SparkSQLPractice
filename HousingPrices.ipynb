{
 "cells": [
  {
   "cell_type": "markdown",
   "metadata": {},
   "source": [
    "I'm using data from Kaggle https://www.kaggle.com/c/house-prices-advanced-regression-techniques/data We use the train.csv which is renamed."
   ]
  },
  {
   "cell_type": "code",
   "execution_count": 19,
   "metadata": {},
   "outputs": [
    {
     "name": "stdout",
     "output_type": "stream",
     "text": [
      "Row(_c0='Id', _c1='MSSubClass', _c2='MSZoning', _c3='LotFrontage', _c4='LotArea', _c5='Street', _c6='Alley', _c7='LotShape', _c8='LandContour', _c9='Utilities', _c10='LotConfig', _c11='LandSlope', _c12='Neighborhood', _c13='Condition1', _c14='Condition2', _c15='BldgType', _c16='HouseStyle', _c17='OverallQual', _c18='OverallCond', _c19='YearBuilt', _c20='YearRemodAdd', _c21='RoofStyle', _c22='RoofMatl', _c23='Exterior1st', _c24='Exterior2nd', _c25='MasVnrType', _c26='MasVnrArea', _c27='ExterQual', _c28='ExterCond', _c29='Foundation', _c30='BsmtQual', _c31='BsmtCond', _c32='BsmtExposure', _c33='BsmtFinType1', _c34='BsmtFinSF1', _c35='BsmtFinType2', _c36='BsmtFinSF2', _c37='BsmtUnfSF', _c38='TotalBsmtSF', _c39='Heating', _c40='HeatingQC', _c41='CentralAir', _c42='Electrical', _c43='1stFlrSF', _c44='2ndFlrSF', _c45='LowQualFinSF', _c46='GrLivArea', _c47='BsmtFullBath', _c48='BsmtHalfBath', _c49='FullBath', _c50='HalfBath', _c51='BedroomAbvGr', _c52='KitchenAbvGr', _c53='KitchenQual', _c54='TotRmsAbvGrd', _c55='Functional', _c56='Fireplaces', _c57='FireplaceQu', _c58='GarageType', _c59='GarageYrBlt', _c60='GarageFinish', _c61='GarageCars', _c62='GarageArea', _c63='GarageQual', _c64='GarageCond', _c65='PavedDrive', _c66='WoodDeckSF', _c67='OpenPorchSF', _c68='EnclosedPorch', _c69='3SsnPorch', _c70='ScreenPorch', _c71='PoolArea', _c72='PoolQC', _c73='Fence', _c74='MiscFeature', _c75='MiscVal', _c76='MoSold', _c77='YrSold', _c78='SaleType', _c79='SaleCondition', _c80='SalePrice')\n",
      "root\n",
      " |-- _c0: string (nullable = true)\n",
      " |-- _c1: string (nullable = true)\n",
      " |-- _c2: string (nullable = true)\n",
      " |-- _c3: string (nullable = true)\n",
      " |-- _c4: string (nullable = true)\n",
      " |-- _c5: string (nullable = true)\n",
      " |-- _c6: string (nullable = true)\n",
      " |-- _c7: string (nullable = true)\n",
      " |-- _c8: string (nullable = true)\n",
      " |-- _c9: string (nullable = true)\n",
      " |-- _c10: string (nullable = true)\n",
      " |-- _c11: string (nullable = true)\n",
      " |-- _c12: string (nullable = true)\n",
      " |-- _c13: string (nullable = true)\n",
      " |-- _c14: string (nullable = true)\n",
      " |-- _c15: string (nullable = true)\n",
      " |-- _c16: string (nullable = true)\n",
      " |-- _c17: string (nullable = true)\n",
      " |-- _c18: string (nullable = true)\n",
      " |-- _c19: string (nullable = true)\n",
      " |-- _c20: string (nullable = true)\n",
      " |-- _c21: string (nullable = true)\n",
      " |-- _c22: string (nullable = true)\n",
      " |-- _c23: string (nullable = true)\n",
      " |-- _c24: string (nullable = true)\n",
      " |-- _c25: string (nullable = true)\n",
      " |-- _c26: string (nullable = true)\n",
      " |-- _c27: string (nullable = true)\n",
      " |-- _c28: string (nullable = true)\n",
      " |-- _c29: string (nullable = true)\n",
      " |-- _c30: string (nullable = true)\n",
      " |-- _c31: string (nullable = true)\n",
      " |-- _c32: string (nullable = true)\n",
      " |-- _c33: string (nullable = true)\n",
      " |-- _c34: string (nullable = true)\n",
      " |-- _c35: string (nullable = true)\n",
      " |-- _c36: string (nullable = true)\n",
      " |-- _c37: string (nullable = true)\n",
      " |-- _c38: string (nullable = true)\n",
      " |-- _c39: string (nullable = true)\n",
      " |-- _c40: string (nullable = true)\n",
      " |-- _c41: string (nullable = true)\n",
      " |-- _c42: string (nullable = true)\n",
      " |-- _c43: string (nullable = true)\n",
      " |-- _c44: string (nullable = true)\n",
      " |-- _c45: string (nullable = true)\n",
      " |-- _c46: string (nullable = true)\n",
      " |-- _c47: string (nullable = true)\n",
      " |-- _c48: string (nullable = true)\n",
      " |-- _c49: string (nullable = true)\n",
      " |-- _c50: string (nullable = true)\n",
      " |-- _c51: string (nullable = true)\n",
      " |-- _c52: string (nullable = true)\n",
      " |-- _c53: string (nullable = true)\n",
      " |-- _c54: string (nullable = true)\n",
      " |-- _c55: string (nullable = true)\n",
      " |-- _c56: string (nullable = true)\n",
      " |-- _c57: string (nullable = true)\n",
      " |-- _c58: string (nullable = true)\n",
      " |-- _c59: string (nullable = true)\n",
      " |-- _c60: string (nullable = true)\n",
      " |-- _c61: string (nullable = true)\n",
      " |-- _c62: string (nullable = true)\n",
      " |-- _c63: string (nullable = true)\n",
      " |-- _c64: string (nullable = true)\n",
      " |-- _c65: string (nullable = true)\n",
      " |-- _c66: string (nullable = true)\n",
      " |-- _c67: string (nullable = true)\n",
      " |-- _c68: string (nullable = true)\n",
      " |-- _c69: string (nullable = true)\n",
      " |-- _c70: string (nullable = true)\n",
      " |-- _c71: string (nullable = true)\n",
      " |-- _c72: string (nullable = true)\n",
      " |-- _c73: string (nullable = true)\n",
      " |-- _c74: string (nullable = true)\n",
      " |-- _c75: string (nullable = true)\n",
      " |-- _c76: string (nullable = true)\n",
      " |-- _c77: string (nullable = true)\n",
      " |-- _c78: string (nullable = true)\n",
      " |-- _c79: string (nullable = true)\n",
      " |-- _c80: string (nullable = true)\n",
      "\n",
      "None\n",
      "['_c0', '_c1', '_c2', '_c3', '_c4', '_c5', '_c6', '_c7', '_c8', '_c9', '_c10', '_c11', '_c12', '_c13', '_c14', '_c15', '_c16', '_c17', '_c18', '_c19', '_c20', '_c21', '_c22', '_c23', '_c24', '_c25', '_c26', '_c27', '_c28', '_c29', '_c30', '_c31', '_c32', '_c33', '_c34', '_c35', '_c36', '_c37', '_c38', '_c39', '_c40', '_c41', '_c42', '_c43', '_c44', '_c45', '_c46', '_c47', '_c48', '_c49', '_c50', '_c51', '_c52', '_c53', '_c54', '_c55', '_c56', '_c57', '_c58', '_c59', '_c60', '_c61', '_c62', '_c63', '_c64', '_c65', '_c66', '_c67', '_c68', '_c69', '_c70', '_c71', '_c72', '_c73', '_c74', '_c75', '_c76', '_c77', '_c78', '_c79', '_c80']\n"
     ]
    }
   ],
   "source": [
    "from pyspark.sql.types import *\n",
    "\n",
    "from pyspark.sql import SparkSession\n",
    "\n",
    "spark = SparkSession \\\n",
    "    .builder \\\n",
    "    .appName(\"HousingPrices\") \\\n",
    "    .config(\"spark.some.config.option\", \"some-value\") \\\n",
    "    .getOrCreate()\n",
    "\n",
    "\n",
    "schema=StructType([StructField('ID',IntegerType(),False),StructField('ProductID',IntegerType(),False),StructField('Cost',FloatType(),False)])\n",
    "\n",
    "base = spark.read.csv(\"file:///home/maria/Documents/SparkSQLPractice/housingprices.csv\",inferSchema=True)\n",
    "print(base.head())\n",
    "print(base.printSchema())\n",
    "print(base.columns)"
   ]
  },
  {
   "cell_type": "code",
   "execution_count": 15,
   "metadata": {},
   "outputs": [
    {
     "name": "stdout",
     "output_type": "stream",
     "text": [
      "+---+----------+--------+-----------+-------+------+-----+--------+-----------+---------+---------+---------+------------+----------+----------+--------+----------+-----------+-----------+---------+------------+---------+--------+-----------+-----------+----------+----------+---------+---------+----------+--------+--------+------------+------------+----------+------------+----------+---------+-----------+-------+---------+----------+----------+--------+--------+------------+---------+------------+------------+--------+--------+------------+------------+-----------+------------+----------+----------+-----------+----------+-----------+------------+----------+----------+----------+----------+----------+----------+-----------+-------------+---------+-----------+--------+------+-----+-----------+-------+------+------+--------+-------------+---------+\n",
      "|_c0|       _c1|     _c2|        _c3|    _c4|   _c5|  _c6|     _c7|        _c8|      _c9|     _c10|     _c11|        _c12|      _c13|      _c14|    _c15|      _c16|       _c17|       _c18|     _c19|        _c20|     _c21|    _c22|       _c23|       _c24|      _c25|      _c26|     _c27|     _c28|      _c29|    _c30|    _c31|        _c32|        _c33|      _c34|        _c35|      _c36|     _c37|       _c38|   _c39|     _c40|      _c41|      _c42|    _c43|    _c44|        _c45|     _c46|        _c47|        _c48|    _c49|    _c50|        _c51|        _c52|       _c53|        _c54|      _c55|      _c56|       _c57|      _c58|       _c59|        _c60|      _c61|      _c62|      _c63|      _c64|      _c65|      _c66|       _c67|         _c68|     _c69|       _c70|    _c71|  _c72| _c73|       _c74|   _c75|  _c76|  _c77|    _c78|         _c79|     _c80|\n",
      "+---+----------+--------+-----------+-------+------+-----+--------+-----------+---------+---------+---------+------------+----------+----------+--------+----------+-----------+-----------+---------+------------+---------+--------+-----------+-----------+----------+----------+---------+---------+----------+--------+--------+------------+------------+----------+------------+----------+---------+-----------+-------+---------+----------+----------+--------+--------+------------+---------+------------+------------+--------+--------+------------+------------+-----------+------------+----------+----------+-----------+----------+-----------+------------+----------+----------+----------+----------+----------+----------+-----------+-------------+---------+-----------+--------+------+-----+-----------+-------+------+------+--------+-------------+---------+\n",
      "| Id|MSSubClass|MSZoning|LotFrontage|LotArea|Street|Alley|LotShape|LandContour|Utilities|LotConfig|LandSlope|Neighborhood|Condition1|Condition2|BldgType|HouseStyle|OverallQual|OverallCond|YearBuilt|YearRemodAdd|RoofStyle|RoofMatl|Exterior1st|Exterior2nd|MasVnrType|MasVnrArea|ExterQual|ExterCond|Foundation|BsmtQual|BsmtCond|BsmtExposure|BsmtFinType1|BsmtFinSF1|BsmtFinType2|BsmtFinSF2|BsmtUnfSF|TotalBsmtSF|Heating|HeatingQC|CentralAir|Electrical|1stFlrSF|2ndFlrSF|LowQualFinSF|GrLivArea|BsmtFullBath|BsmtHalfBath|FullBath|HalfBath|BedroomAbvGr|KitchenAbvGr|KitchenQual|TotRmsAbvGrd|Functional|Fireplaces|FireplaceQu|GarageType|GarageYrBlt|GarageFinish|GarageCars|GarageArea|GarageQual|GarageCond|PavedDrive|WoodDeckSF|OpenPorchSF|EnclosedPorch|3SsnPorch|ScreenPorch|PoolArea|PoolQC|Fence|MiscFeature|MiscVal|MoSold|YrSold|SaleType|SaleCondition|SalePrice|\n",
      "|  1|        60|      RL|         65|   8450|  Pave|   NA|     Reg|        Lvl|   AllPub|   Inside|      Gtl|     CollgCr|      Norm|      Norm|    1Fam|    2Story|          7|          5|     2003|        2003|    Gable| CompShg|    VinylSd|    VinylSd|   BrkFace|       196|       Gd|       TA|     PConc|      Gd|      TA|          No|         GLQ|       706|         Unf|         0|      150|        856|   GasA|       Ex|         Y|     SBrkr|     856|     854|           0|     1710|           1|           0|       2|       1|           3|           1|         Gd|           8|       Typ|         0|         NA|    Attchd|       2003|         RFn|         2|       548|        TA|        TA|         Y|         0|         61|            0|        0|          0|       0|    NA|   NA|         NA|      0|     2|  2008|      WD|       Normal|   208500|\n",
      "|  2|        20|      RL|         80|   9600|  Pave|   NA|     Reg|        Lvl|   AllPub|      FR2|      Gtl|     Veenker|     Feedr|      Norm|    1Fam|    1Story|          6|          8|     1976|        1976|    Gable| CompShg|    MetalSd|    MetalSd|      None|         0|       TA|       TA|    CBlock|      Gd|      TA|          Gd|         ALQ|       978|         Unf|         0|      284|       1262|   GasA|       Ex|         Y|     SBrkr|    1262|       0|           0|     1262|           0|           1|       2|       0|           3|           1|         TA|           6|       Typ|         1|         TA|    Attchd|       1976|         RFn|         2|       460|        TA|        TA|         Y|       298|          0|            0|        0|          0|       0|    NA|   NA|         NA|      0|     5|  2007|      WD|       Normal|   181500|\n",
      "|  3|        60|      RL|         68|  11250|  Pave|   NA|     IR1|        Lvl|   AllPub|   Inside|      Gtl|     CollgCr|      Norm|      Norm|    1Fam|    2Story|          7|          5|     2001|        2002|    Gable| CompShg|    VinylSd|    VinylSd|   BrkFace|       162|       Gd|       TA|     PConc|      Gd|      TA|          Mn|         GLQ|       486|         Unf|         0|      434|        920|   GasA|       Ex|         Y|     SBrkr|     920|     866|           0|     1786|           1|           0|       2|       1|           3|           1|         Gd|           6|       Typ|         1|         TA|    Attchd|       2001|         RFn|         2|       608|        TA|        TA|         Y|         0|         42|            0|        0|          0|       0|    NA|   NA|         NA|      0|     9|  2008|      WD|       Normal|   223500|\n",
      "|  4|        70|      RL|         60|   9550|  Pave|   NA|     IR1|        Lvl|   AllPub|   Corner|      Gtl|     Crawfor|      Norm|      Norm|    1Fam|    2Story|          7|          5|     1915|        1970|    Gable| CompShg|    Wd Sdng|    Wd Shng|      None|         0|       TA|       TA|    BrkTil|      TA|      Gd|          No|         ALQ|       216|         Unf|         0|      540|        756|   GasA|       Gd|         Y|     SBrkr|     961|     756|           0|     1717|           1|           0|       1|       0|           3|           1|         Gd|           7|       Typ|         1|         Gd|    Detchd|       1998|         Unf|         3|       642|        TA|        TA|         Y|         0|         35|          272|        0|          0|       0|    NA|   NA|         NA|      0|     2|  2006|      WD|      Abnorml|   140000|\n",
      "|  5|        60|      RL|         84|  14260|  Pave|   NA|     IR1|        Lvl|   AllPub|      FR2|      Gtl|     NoRidge|      Norm|      Norm|    1Fam|    2Story|          8|          5|     2000|        2000|    Gable| CompShg|    VinylSd|    VinylSd|   BrkFace|       350|       Gd|       TA|     PConc|      Gd|      TA|          Av|         GLQ|       655|         Unf|         0|      490|       1145|   GasA|       Ex|         Y|     SBrkr|    1145|    1053|           0|     2198|           1|           0|       2|       1|           4|           1|         Gd|           9|       Typ|         1|         TA|    Attchd|       2000|         RFn|         3|       836|        TA|        TA|         Y|       192|         84|            0|        0|          0|       0|    NA|   NA|         NA|      0|    12|  2008|      WD|       Normal|   250000|\n",
      "|  6|        50|      RL|         85|  14115|  Pave|   NA|     IR1|        Lvl|   AllPub|   Inside|      Gtl|     Mitchel|      Norm|      Norm|    1Fam|    1.5Fin|          5|          5|     1993|        1995|    Gable| CompShg|    VinylSd|    VinylSd|      None|         0|       TA|       TA|      Wood|      Gd|      TA|          No|         GLQ|       732|         Unf|         0|       64|        796|   GasA|       Ex|         Y|     SBrkr|     796|     566|           0|     1362|           1|           0|       1|       1|           1|           1|         TA|           5|       Typ|         0|         NA|    Attchd|       1993|         Unf|         2|       480|        TA|        TA|         Y|        40|         30|            0|      320|          0|       0|    NA|MnPrv|       Shed|    700|    10|  2009|      WD|       Normal|   143000|\n",
      "|  7|        20|      RL|         75|  10084|  Pave|   NA|     Reg|        Lvl|   AllPub|   Inside|      Gtl|     Somerst|      Norm|      Norm|    1Fam|    1Story|          8|          5|     2004|        2005|    Gable| CompShg|    VinylSd|    VinylSd|     Stone|       186|       Gd|       TA|     PConc|      Ex|      TA|          Av|         GLQ|      1369|         Unf|         0|      317|       1686|   GasA|       Ex|         Y|     SBrkr|    1694|       0|           0|     1694|           1|           0|       2|       0|           3|           1|         Gd|           7|       Typ|         1|         Gd|    Attchd|       2004|         RFn|         2|       636|        TA|        TA|         Y|       255|         57|            0|        0|          0|       0|    NA|   NA|         NA|      0|     8|  2007|      WD|       Normal|   307000|\n",
      "|  8|        60|      RL|         NA|  10382|  Pave|   NA|     IR1|        Lvl|   AllPub|   Corner|      Gtl|      NWAmes|      PosN|      Norm|    1Fam|    2Story|          7|          6|     1973|        1973|    Gable| CompShg|    HdBoard|    HdBoard|     Stone|       240|       TA|       TA|    CBlock|      Gd|      TA|          Mn|         ALQ|       859|         BLQ|        32|      216|       1107|   GasA|       Ex|         Y|     SBrkr|    1107|     983|           0|     2090|           1|           0|       2|       1|           3|           1|         TA|           7|       Typ|         2|         TA|    Attchd|       1973|         RFn|         2|       484|        TA|        TA|         Y|       235|        204|          228|        0|          0|       0|    NA|   NA|       Shed|    350|    11|  2009|      WD|       Normal|   200000|\n",
      "|  9|        50|      RM|         51|   6120|  Pave|   NA|     Reg|        Lvl|   AllPub|   Inside|      Gtl|     OldTown|    Artery|      Norm|    1Fam|    1.5Fin|          7|          5|     1931|        1950|    Gable| CompShg|    BrkFace|    Wd Shng|      None|         0|       TA|       TA|    BrkTil|      TA|      TA|          No|         Unf|         0|         Unf|         0|      952|        952|   GasA|       Gd|         Y|     FuseF|    1022|     752|           0|     1774|           0|           0|       2|       0|           2|           2|         TA|           8|      Min1|         2|         TA|    Detchd|       1931|         Unf|         2|       468|        Fa|        TA|         Y|        90|          0|          205|        0|          0|       0|    NA|   NA|         NA|      0|     4|  2008|      WD|      Abnorml|   129900|\n",
      "+---+----------+--------+-----------+-------+------+-----+--------+-----------+---------+---------+---------+------------+----------+----------+--------+----------+-----------+-----------+---------+------------+---------+--------+-----------+-----------+----------+----------+---------+---------+----------+--------+--------+------------+------------+----------+------------+----------+---------+-----------+-------+---------+----------+----------+--------+--------+------------+---------+------------+------------+--------+--------+------------+------------+-----------+------------+----------+----------+-----------+----------+-----------+------------+----------+----------+----------+----------+----------+----------+-----------+-------------+---------+-----------+--------+------+-----+-----------+-------+------+------+--------+-------------+---------+\n",
      "\n"
     ]
    }
   ],
   "source": [
    "base.createOrReplaceTempView(\"my_data\")\n",
    "\n",
    "sqlDF = spark.sql(\"SELECT * FROM my_data LIMIT 10\")\n",
    "sqlDF.show()"
   ]
  },
  {
   "cell_type": "code",
   "execution_count": 14,
   "metadata": {},
   "outputs": [
    {
     "name": "stdout",
     "output_type": "stream",
     "text": [
      "   Id  MSSubClass MSZoning  LotFrontage  LotArea Street Alley LotShape  \\\n",
      "0   1          60       RL         65.0     8450   Pave   NaN      Reg   \n",
      "1   2          20       RL         80.0     9600   Pave   NaN      Reg   \n",
      "2   3          60       RL         68.0    11250   Pave   NaN      IR1   \n",
      "3   4          70       RL         60.0     9550   Pave   NaN      IR1   \n",
      "4   5          60       RL         84.0    14260   Pave   NaN      IR1   \n",
      "\n",
      "  LandContour Utilities  ... PoolArea PoolQC Fence MiscFeature MiscVal MoSold  \\\n",
      "0         Lvl    AllPub  ...        0    NaN   NaN         NaN       0      2   \n",
      "1         Lvl    AllPub  ...        0    NaN   NaN         NaN       0      5   \n",
      "2         Lvl    AllPub  ...        0    NaN   NaN         NaN       0      9   \n",
      "3         Lvl    AllPub  ...        0    NaN   NaN         NaN       0      2   \n",
      "4         Lvl    AllPub  ...        0    NaN   NaN         NaN       0     12   \n",
      "\n",
      "  YrSold  SaleType  SaleCondition  SalePrice  \n",
      "0   2008        WD         Normal     208500  \n",
      "1   2007        WD         Normal     181500  \n",
      "2   2008        WD         Normal     223500  \n",
      "3   2006        WD        Abnorml     140000  \n",
      "4   2008        WD         Normal     250000  \n",
      "\n",
      "[5 rows x 81 columns]\n"
     ]
    }
   ],
   "source": [
    "import pandas as pd\n",
    "\n",
    "data=pd.read_csv(\"/home/maria/Documents/SparkSQLPractice/housingprices.csv\")\n",
    "print(data.head())"
   ]
  }
 ],
 "metadata": {
  "kernelspec": {
   "display_name": "Python 3",
   "language": "python",
   "name": "python3"
  },
  "language_info": {
   "codemirror_mode": {
    "name": "ipython",
    "version": 3
   },
   "file_extension": ".py",
   "mimetype": "text/x-python",
   "name": "python",
   "nbconvert_exporter": "python",
   "pygments_lexer": "ipython3",
   "version": "3.7.4"
  }
 },
 "nbformat": 4,
 "nbformat_minor": 2
}
