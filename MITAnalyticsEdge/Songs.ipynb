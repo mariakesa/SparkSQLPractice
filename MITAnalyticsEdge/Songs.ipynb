{
 "cells": [
  {
   "cell_type": "code",
   "execution_count": 2,
   "metadata": {},
   "outputs": [
    {
     "name": "stdout",
     "output_type": "stream",
     "text": [
      "Row(year=2010, songtitle='This Is the House That Doubt Built', artistname='A Day to Remember', songID='SOBGGAB12C5664F054', artistID='AROBSHL1187B9AFB01', timesignature=3, timesignature_confidence=0.853, loudness=-4.262, tempo=91.525, tempo_confidence=0.953, key=11, key_confidence=0.453, energy=0.966655566, pitch=0.024, timbre_0_min=0.002, timbre_0_max=57.342, timbre_1_min=-6.496, timbre_1_max=171.093, timbre_2_min=-81.664, timbre_2_max=95.117, timbre_3_min=-285.049, timbre_3_max=259.426, timbre_4_min=-40.385, timbre_4_max=73.63, timbre_5_min=-104.683, timbre_5_max=183.089, timbre_6_min=-88.771, timbre_6_max=73.549, timbre_7_min=-71.127, timbre_7_max=82.475, timbre_8_min=-52.025, timbre_8_max=39.116, timbre_9_min=-35.368, timbre_9_max=71.642, timbre_10_min=-126.44, timbre_10_max=18.658, timbre_11_min=-44.77, timbre_11_max=25.989, Top10=0)\n",
      "root\n",
      " |-- year: integer (nullable = true)\n",
      " |-- songtitle: string (nullable = true)\n",
      " |-- artistname: string (nullable = true)\n",
      " |-- songID: string (nullable = true)\n",
      " |-- artistID: string (nullable = true)\n",
      " |-- timesignature: integer (nullable = true)\n",
      " |-- timesignature_confidence: double (nullable = true)\n",
      " |-- loudness: double (nullable = true)\n",
      " |-- tempo: double (nullable = true)\n",
      " |-- tempo_confidence: double (nullable = true)\n",
      " |-- key: integer (nullable = true)\n",
      " |-- key_confidence: double (nullable = true)\n",
      " |-- energy: double (nullable = true)\n",
      " |-- pitch: double (nullable = true)\n",
      " |-- timbre_0_min: double (nullable = true)\n",
      " |-- timbre_0_max: double (nullable = true)\n",
      " |-- timbre_1_min: double (nullable = true)\n",
      " |-- timbre_1_max: double (nullable = true)\n",
      " |-- timbre_2_min: double (nullable = true)\n",
      " |-- timbre_2_max: double (nullable = true)\n",
      " |-- timbre_3_min: double (nullable = true)\n",
      " |-- timbre_3_max: double (nullable = true)\n",
      " |-- timbre_4_min: double (nullable = true)\n",
      " |-- timbre_4_max: double (nullable = true)\n",
      " |-- timbre_5_min: double (nullable = true)\n",
      " |-- timbre_5_max: double (nullable = true)\n",
      " |-- timbre_6_min: double (nullable = true)\n",
      " |-- timbre_6_max: double (nullable = true)\n",
      " |-- timbre_7_min: double (nullable = true)\n",
      " |-- timbre_7_max: double (nullable = true)\n",
      " |-- timbre_8_min: double (nullable = true)\n",
      " |-- timbre_8_max: double (nullable = true)\n",
      " |-- timbre_9_min: double (nullable = true)\n",
      " |-- timbre_9_max: double (nullable = true)\n",
      " |-- timbre_10_min: double (nullable = true)\n",
      " |-- timbre_10_max: double (nullable = true)\n",
      " |-- timbre_11_min: double (nullable = true)\n",
      " |-- timbre_11_max: double (nullable = true)\n",
      " |-- Top10: integer (nullable = true)\n",
      "\n",
      "None\n",
      "['year', 'songtitle', 'artistname', 'songID', 'artistID', 'timesignature', 'timesignature_confidence', 'loudness', 'tempo', 'tempo_confidence', 'key', 'key_confidence', 'energy', 'pitch', 'timbre_0_min', 'timbre_0_max', 'timbre_1_min', 'timbre_1_max', 'timbre_2_min', 'timbre_2_max', 'timbre_3_min', 'timbre_3_max', 'timbre_4_min', 'timbre_4_max', 'timbre_5_min', 'timbre_5_max', 'timbre_6_min', 'timbre_6_max', 'timbre_7_min', 'timbre_7_max', 'timbre_8_min', 'timbre_8_max', 'timbre_9_min', 'timbre_9_max', 'timbre_10_min', 'timbre_10_max', 'timbre_11_min', 'timbre_11_max', 'Top10']\n"
     ]
    }
   ],
   "source": [
    "\n",
    "from pyspark.sql.types import *\n",
    "\n",
    "from pyspark.sql import SparkSession\n",
    "\n",
    "spark = SparkSession \\\n",
    "    .builder \\\n",
    "    .appName(\"Song\") \\\n",
    "    .config(\"spark.some.config.option\", \"song-value\") \\\n",
    "    .getOrCreate()\n",
    "\n",
    "\n",
    "\n",
    "base = spark.read.csv(\"file:///home/maria/Documents/SparkSQLPractice/songs.csv\",inferSchema=True,header=True)\n",
    "print(base.head())\n",
    "print(base.printSchema())\n",
    "print(base.columns)"
   ]
  },
  {
   "cell_type": "code",
   "execution_count": 5,
   "metadata": {},
   "outputs": [
    {
     "name": "stdout",
     "output_type": "stream",
     "text": [
      "+-------+\n",
      "|n_songs|\n",
      "+-------+\n",
      "|    373|\n",
      "+-------+\n",
      "\n",
      "None\n"
     ]
    }
   ],
   "source": [
    "base.createOrReplaceTempView(\"songs\")\n",
    "#Number of rows in data\n",
    "qur = spark.sql(\"SELECT COUNT(*) as n_songs FROM songs WHERE year=2010\")\n",
    "print(qur.show())"
   ]
  },
  {
   "cell_type": "code",
   "execution_count": 6,
   "metadata": {},
   "outputs": [
    {
     "name": "stdout",
     "output_type": "stream",
     "text": [
      "+-------+\n",
      "|n_songs|\n",
      "+-------+\n",
      "|     18|\n",
      "+-------+\n",
      "\n",
      "None\n"
     ]
    }
   ],
   "source": [
    "qur = spark.sql(\"SELECT COUNT(*) as n_songs FROM songs WHERE artistname='Michael Jackson'\")\n",
    "print(qur.show())"
   ]
  },
  {
   "cell_type": "code",
   "execution_count": 8,
   "metadata": {},
   "outputs": [
    {
     "name": "stdout",
     "output_type": "stream",
     "text": [
      "+-----------------+\n",
      "|             song|\n",
      "+-----------------+\n",
      "|You Rock My World|\n",
      "|You Are Not Alone|\n",
      "|   Black or White|\n",
      "|Remember the Time|\n",
      "|    In The Closet|\n",
      "+-----------------+\n",
      "\n",
      "None\n"
     ]
    }
   ],
   "source": [
    "qur = spark.sql(\"SELECT songtitle as song FROM songs WHERE artistname='Michael Jackson' AND Top10=TRUE\")\n",
    "print(qur.show())"
   ]
  },
  {
   "cell_type": "code",
   "execution_count": 10,
   "metadata": {},
   "outputs": [
    {
     "name": "stdout",
     "output_type": "stream",
     "text": [
      "+-------+\n",
      "|timesig|\n",
      "+-------+\n",
      "|      1|\n",
      "|      3|\n",
      "|      5|\n",
      "|      4|\n",
      "|      7|\n",
      "|      0|\n",
      "+-------+\n",
      "\n",
      "None\n"
     ]
    }
   ],
   "source": [
    "qur = spark.sql(\"SELECT DISTINCT(timesignature) as timesig FROM songs\")\n",
    "print(qur.show())"
   ]
  },
  {
   "cell_type": "code",
   "execution_count": 12,
   "metadata": {},
   "outputs": [
    {
     "name": "stdout",
     "output_type": "stream",
     "text": [
      "+-------------+-------+\n",
      "|timesignature|timesig|\n",
      "+-------------+-------+\n",
      "|            1|    143|\n",
      "|            3|    503|\n",
      "|            5|    112|\n",
      "|            4|   6787|\n",
      "|            7|     19|\n",
      "|            0|     10|\n",
      "+-------------+-------+\n",
      "\n",
      "None\n"
     ]
    }
   ],
   "source": [
    "qur = spark.sql(\"SELECT timesignature,COUNT(*) as timesig FROM songs GROUP BY timesignature\")\n",
    "print(qur.show())"
   ]
  },
  {
   "cell_type": "code",
   "execution_count": 19,
   "metadata": {},
   "outputs": [
    {
     "name": "stdout",
     "output_type": "stream",
     "text": [
      "+--------------------+-------+\n",
      "|           songtitle|maximum|\n",
      "+--------------------+-------+\n",
      "|Take Me To A High...|108.049|\n",
      "|   Candle Burned Out| 79.177|\n",
      "|    Back To December|141.896|\n",
      "|    I Know What I Am| 99.677|\n",
      "|              Heaven|137.992|\n",
      "|      About to Break|131.977|\n",
      "|             Push It|150.035|\n",
      "|       Space Truckin|141.856|\n",
      "|            About Me| 85.977|\n",
      "|            Kiss Off| 87.137|\n",
      "|          Nightmares|148.233|\n",
      "|           On My Way|  70.54|\n",
      "|I Thought You Sho...| 92.416|\n",
      "|        Strange Eyes|150.134|\n",
      "|            The Moth|128.064|\n",
      "|   Hole in Your Head| 82.578|\n",
      "|       The Encounter|145.379|\n",
      "|          Snoop Dogg| 98.963|\n",
      "|     Burning Bridges| 85.024|\n",
      "|   What A Girl Wants|   71.1|\n",
      "+--------------------+-------+\n",
      "only showing top 20 rows\n",
      "\n",
      "None\n"
     ]
    }
   ],
   "source": [
    "SELECT article, dealer, price\n",
    "FROM   shop\n",
    "WHERE  price=(SELECT MAX(price) FROM shop);\n",
    "\n",
    "\n",
    "\n",
    "qur = spark.sql(\"SELECT songtitle,MAX(tempo) as maximum FROM songs WHERE songti=(SELECT MAX(price) FROM shop)\")\n",
    "print(qur.show())"
   ]
  }
 ],
 "metadata": {
  "kernelspec": {
   "display_name": "Python 3",
   "language": "python",
   "name": "python3"
  },
  "language_info": {
   "codemirror_mode": {
    "name": "ipython",
    "version": 3
   },
   "file_extension": ".py",
   "mimetype": "text/x-python",
   "name": "python",
   "nbconvert_exporter": "python",
   "pygments_lexer": "ipython3",
   "version": "3.7.4"
  }
 },
 "nbformat": 4,
 "nbformat_minor": 2
}
