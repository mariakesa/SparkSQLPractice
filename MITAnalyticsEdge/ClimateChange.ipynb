{
 "cells": [
  {
   "cell_type": "code",
   "execution_count": 1,
   "metadata": {
    "scrolled": true
   },
   "outputs": [
    {
     "name": "stdout",
     "output_type": "stream",
     "text": [
      "Row(Year=1983, Month=5, MEI=2.556, CO2=345.96, CH4=1638.59, N2O=303.677, CFC-11=191.324, CFC-12=350.113, TSI=1366.1024, Aerosols=0.0863, Temp=0.109)\n",
      "root\n",
      " |-- Year: integer (nullable = true)\n",
      " |-- Month: integer (nullable = true)\n",
      " |-- MEI: double (nullable = true)\n",
      " |-- CO2: double (nullable = true)\n",
      " |-- CH4: double (nullable = true)\n",
      " |-- N2O: double (nullable = true)\n",
      " |-- CFC-11: double (nullable = true)\n",
      " |-- CFC-12: double (nullable = true)\n",
      " |-- TSI: double (nullable = true)\n",
      " |-- Aerosols: double (nullable = true)\n",
      " |-- Temp: double (nullable = true)\n",
      "\n",
      "None\n",
      "['Year', 'Month', 'MEI', 'CO2', 'CH4', 'N2O', 'CFC-11', 'CFC-12', 'TSI', 'Aerosols', 'Temp']\n"
     ]
    }
   ],
   "source": [
    "from pyspark.sql.types import *\n",
    "\n",
    "from pyspark.sql import SparkSession\n",
    "\n",
    "spark = SparkSession \\\n",
    "    .builder \\\n",
    "    .appName(\"HousingPrices\") \\\n",
    "    .config(\"spark.some.config.option\", \"some-value\") \\\n",
    "    .getOrCreate()\n",
    "\n",
    "\n",
    "\n",
    "base = spark.read.csv(\"file:///home/maria/Documents/SparkSQLPractice/climate_change.csv\",inferSchema=True,header=True)\n",
    "print(base.head())\n",
    "print(base.printSchema())\n",
    "print(base.columns)"
   ]
  },
  {
   "cell_type": "code",
   "execution_count": null,
   "metadata": {},
   "outputs": [],
   "source": [
    "'''\n",
    "Question ID: 10101\n",
    "We are interested in how changes in these variables affect future temperatures, as well as how well these variables explain temperature changes so far. To do this, first read the dataset climate_change.csv into R. \n",
    "\n",
    "Then, split the data into a training set, consisting of all the observations up to and including 2006, and a testing set consisting of the remaining years (hint: use subset). A training set refers to the data that will be used to build the model (this is the data we give to the lm() function), and a testing set refers to the data we will use to test our predictive ability.\n",
    "\n",
    "Next, build a linear regression model to predict the dependent variable Temp, using MEI, CO2, CH4, N2O, CFC.11, CFC.12, TSI, and Aerosols as independent variables (Year and Month should NOT be used in the model). Use the training set to build the model.\n",
    "\n",
    "Enter the model R2 (the Multiple R2 value).\n",
    "\n",
    "Attempts: 0 / 2\n",
    "'''\n"
   ]
  },
  {
   "cell_type": "code",
   "execution_count": 5,
   "metadata": {},
   "outputs": [
    {
     "name": "stdout",
     "output_type": "stream",
     "text": [
      "+----+-----+------+------+-------+-------+-------+-------+---------+--------+------+\n",
      "|Year|Month|   MEI|   CO2|    CH4|    N2O| CFC-11| CFC-12|      TSI|Aerosols|  Temp|\n",
      "+----+-----+------+------+-------+-------+-------+-------+---------+--------+------+\n",
      "|1983|    5| 2.556|345.96|1638.59|303.677|191.324|350.113|1366.1024|  0.0863| 0.109|\n",
      "|1983|    6| 2.167|345.52|1633.71|303.746|192.057|351.848|1366.1208|  0.0794| 0.118|\n",
      "|1983|    7| 1.741|344.15|1633.22|303.795|192.818|353.725| 1366.285|  0.0731| 0.137|\n",
      "|1983|    8|  1.13|342.25|1631.35|303.839|193.602|355.633|1366.4202|  0.0673| 0.176|\n",
      "|1983|    9| 0.428|340.17| 1648.4|303.901|194.392|357.465|1366.2335|  0.0619| 0.149|\n",
      "|1983|   10| 0.002| 340.3|1663.79| 303.97|195.171|359.174|1366.0589|  0.0569| 0.093|\n",
      "|1983|   11|-0.176|341.53|1658.23|304.032|195.921|360.758|1366.1072|  0.0524| 0.232|\n",
      "|1983|   12|-0.176|343.07|1654.31|304.082|196.609|362.174|1366.0607|  0.0486| 0.078|\n",
      "|1984|    1|-0.339|344.05|1658.98| 304.13|197.219|363.359|1365.4261|  0.0451| 0.089|\n",
      "|1984|    2|-0.565|344.77|1656.48|304.194|197.759|364.296|1365.6618|  0.0416| 0.013|\n",
      "|1984|    3| 0.131|345.46|1655.77|304.285|198.249|365.044|1366.1697|  0.0383| 0.049|\n",
      "|1984|    4| 0.331|346.77|1657.68|304.389|198.723|365.692| 1365.566|  0.0352|-0.019|\n",
      "|1984|    5| 0.121|347.55|1649.33|304.489|199.233|366.317|1365.7783|  0.0324| 0.065|\n",
      "|1984|    6|-0.142|346.98|1634.13|304.593|199.858|367.029|1366.0956|  0.0302|-0.016|\n",
      "|1984|    7|-0.138|345.55|1629.89|304.722|200.671|367.893|1366.1145|  0.0282|-0.024|\n",
      "|1984|    8|-0.179| 343.2|1643.67|304.871| 201.71|368.843|1365.9781|   0.026| 0.034|\n",
      "|1984|    9|-0.082|341.35| 1663.6|305.021|202.972|  369.8|1365.8669|  0.0239| 0.025|\n",
      "|1984|   10| 0.016|341.68|1674.65|305.158|204.407|370.782|1365.7869|   0.022|-0.035|\n",
      "|1984|   11|-0.351|343.06| 1677.1|305.263|205.893| 371.77|1365.6802|  0.0202|-0.123|\n",
      "|1984|   12|-0.611|344.54|1672.15|305.313|207.308|372.701|1365.7617|  0.0188|-0.282|\n",
      "+----+-----+------+------+-------+-------+-------+-------+---------+--------+------+\n",
      "only showing top 20 rows\n",
      "\n"
     ]
    }
   ],
   "source": [
    "from pyspark.sql.functions import col\n",
    "df_train = base.where(col('Year') <= 2006) \n",
    "df_test = df.where(col('Year')>2006)\n",
    "df_train.show()\n",
    "df_test.sh"
   ]
  }
 ],
 "metadata": {
  "kernelspec": {
   "display_name": "Python 3",
   "language": "python",
   "name": "python3"
  },
  "language_info": {
   "codemirror_mode": {
    "name": "ipython",
    "version": 3
   },
   "file_extension": ".py",
   "mimetype": "text/x-python",
   "name": "python",
   "nbconvert_exporter": "python",
   "pygments_lexer": "ipython3",
   "version": "3.7.4"
  }
 },
 "nbformat": 4,
 "nbformat_minor": 2
}
