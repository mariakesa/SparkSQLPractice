{
 "cells": [
  {
   "cell_type": "code",
   "execution_count": 1,
   "metadata": {
    "scrolled": true
   },
   "outputs": [
    {
     "name": "stdout",
     "output_type": "stream",
     "text": [
      "Row(Year=1983, Month=5, MEI=2.556, CO2=345.96, CH4=1638.59, N2O=303.677, CFC-11=191.324, CFC-12=350.113, TSI=1366.1024, Aerosols=0.0863, Temp=0.109)\n",
      "root\n",
      " |-- Year: integer (nullable = true)\n",
      " |-- Month: integer (nullable = true)\n",
      " |-- MEI: double (nullable = true)\n",
      " |-- CO2: double (nullable = true)\n",
      " |-- CH4: double (nullable = true)\n",
      " |-- N2O: double (nullable = true)\n",
      " |-- CFC-11: double (nullable = true)\n",
      " |-- CFC-12: double (nullable = true)\n",
      " |-- TSI: double (nullable = true)\n",
      " |-- Aerosols: double (nullable = true)\n",
      " |-- Temp: double (nullable = true)\n",
      "\n",
      "None\n",
      "['Year', 'Month', 'MEI', 'CO2', 'CH4', 'N2O', 'CFC-11', 'CFC-12', 'TSI', 'Aerosols', 'Temp']\n"
     ]
    }
   ],
   "source": [
    "from pyspark.sql.types import *\n",
    "\n",
    "from pyspark.sql import SparkSession\n",
    "\n",
    "spark = SparkSession \\\n",
    "    .builder \\\n",
    "    .appName(\"HousingPrices\") \\\n",
    "    .config(\"spark.some.config.option\", \"some-value\") \\\n",
    "    .getOrCreate()\n",
    "\n",
    "\n",
    "\n",
    "base = spark.read.csv(\"file:///home/maria/Documents/SparkSQLPractice/climate_change.csv\",inferSchema=True,header=True)\n",
    "print(base.head())\n",
    "print(base.printSchema())\n",
    "print(base.columns)"
   ]
  },
  {
   "cell_type": "code",
   "execution_count": null,
   "metadata": {},
   "outputs": [],
   "source": [
    "'''\n",
    "Question ID: 10101\n",
    "We are interested in how changes in these variables affect future temperatures, as well as how well these variables explain temperature changes so far. To do this, first read the dataset climate_change.csv into R. \n",
    "\n",
    "Then, split the data into a training set, consisting of all the observations up to and including 2006, and a testing set consisting of the remaining years (hint: use subset). A training set refers to the data that will be used to build the model (this is the data we give to the lm() function), and a testing set refers to the data we will use to test our predictive ability.\n",
    "\n",
    "Next, build a linear regression model to predict the dependent variable Temp, using MEI, CO2, CH4, N2O, CFC.11, CFC.12, TSI, and Aerosols as independent variables (Year and Month should NOT be used in the model). Use the training set to build the model.\n",
    "\n",
    "Enter the model R2 (the Multiple R2 value).\n",
    "\n",
    "Attempts: 0 / 2\n",
    "'''\n"
   ]
  },
  {
   "cell_type": "code",
   "execution_count": 5,
   "metadata": {},
   "outputs": [
    {
     "name": "stdout",
     "output_type": "stream",
     "text": [
      "+----+-----+------+------+-------+-------+-------+-------+---------+--------+------+\n",
      "|Year|Month|   MEI|   CO2|    CH4|    N2O| CFC-11| CFC-12|      TSI|Aerosols|  Temp|\n",
      "+----+-----+------+------+-------+-------+-------+-------+---------+--------+------+\n",
      "|1983|    5| 2.556|345.96|1638.59|303.677|191.324|350.113|1366.1024|  0.0863| 0.109|\n",
      "|1983|    6| 2.167|345.52|1633.71|303.746|192.057|351.848|1366.1208|  0.0794| 0.118|\n",
      "|1983|    7| 1.741|344.15|1633.22|303.795|192.818|353.725| 1366.285|  0.0731| 0.137|\n",
      "|1983|    8|  1.13|342.25|1631.35|303.839|193.602|355.633|1366.4202|  0.0673| 0.176|\n",
      "|1983|    9| 0.428|340.17| 1648.4|303.901|194.392|357.465|1366.2335|  0.0619| 0.149|\n",
      "|1983|   10| 0.002| 340.3|1663.79| 303.97|195.171|359.174|1366.0589|  0.0569| 0.093|\n",
      "|1983|   11|-0.176|341.53|1658.23|304.032|195.921|360.758|1366.1072|  0.0524| 0.232|\n",
      "|1983|   12|-0.176|343.07|1654.31|304.082|196.609|362.174|1366.0607|  0.0486| 0.078|\n",
      "|1984|    1|-0.339|344.05|1658.98| 304.13|197.219|363.359|1365.4261|  0.0451| 0.089|\n",
      "|1984|    2|-0.565|344.77|1656.48|304.194|197.759|364.296|1365.6618|  0.0416| 0.013|\n",
      "|1984|    3| 0.131|345.46|1655.77|304.285|198.249|365.044|1366.1697|  0.0383| 0.049|\n",
      "|1984|    4| 0.331|346.77|1657.68|304.389|198.723|365.692| 1365.566|  0.0352|-0.019|\n",
      "|1984|    5| 0.121|347.55|1649.33|304.489|199.233|366.317|1365.7783|  0.0324| 0.065|\n",
      "|1984|    6|-0.142|346.98|1634.13|304.593|199.858|367.029|1366.0956|  0.0302|-0.016|\n",
      "|1984|    7|-0.138|345.55|1629.89|304.722|200.671|367.893|1366.1145|  0.0282|-0.024|\n",
      "|1984|    8|-0.179| 343.2|1643.67|304.871| 201.71|368.843|1365.9781|   0.026| 0.034|\n",
      "|1984|    9|-0.082|341.35| 1663.6|305.021|202.972|  369.8|1365.8669|  0.0239| 0.025|\n",
      "|1984|   10| 0.016|341.68|1674.65|305.158|204.407|370.782|1365.7869|   0.022|-0.035|\n",
      "|1984|   11|-0.351|343.06| 1677.1|305.263|205.893| 371.77|1365.6802|  0.0202|-0.123|\n",
      "|1984|   12|-0.611|344.54|1672.15|305.313|207.308|372.701|1365.7617|  0.0188|-0.282|\n",
      "+----+-----+------+------+-------+-------+-------+-------+---------+--------+------+\n",
      "only showing top 20 rows\n",
      "\n",
      "+----+-----+------+------+-------+-------+-------+-------+---------+--------+-----+\n",
      "|Year|Month|   MEI|   CO2|    CH4|    N2O| CFC-11| CFC-12|      TSI|Aerosols| Temp|\n",
      "+----+-----+------+------+-------+-------+-------+-------+---------+--------+-----+\n",
      "|2007|    1| 0.974|382.93|1799.66|320.561|248.372|539.206|1365.7173|  0.0054|0.601|\n",
      "|2007|    2|  0.51|383.81|1803.08|320.571|248.264|538.973|1365.7145|  0.0051|0.498|\n",
      "|2007|    3| 0.074|384.56| 1803.1|320.548|247.997|538.811|1365.7544|  0.0045|0.435|\n",
      "|2007|    4|-0.049| 386.4|1802.11|320.518|247.574|538.586|1365.7228|  0.0045|0.466|\n",
      "|2007|    5| 0.183|386.58|1795.65|320.445|247.224| 538.13|1365.6932|  0.0041|0.372|\n",
      "|2007|    6|-0.358|386.05|1781.81|320.332|246.881|537.376|1365.7616|   0.004|0.382|\n",
      "|2007|    7| -0.29|384.49|1771.89|320.349|246.497|537.113|1365.7506|   0.004|0.394|\n",
      "|2007|    8| -0.44| 382.0|1779.38|320.471|246.307|537.125|1365.7566|  0.0041|0.358|\n",
      "|2007|    9|-1.162| 380.9|1794.21|320.618|246.214|537.281|1365.7159|  0.0042|0.402|\n",
      "|2007|   10|-1.142|381.14|1802.38|320.855|246.189| 537.38|1365.7388|  0.0041|0.362|\n",
      "|2007|   11|-1.177|382.42|1803.79|321.062|246.178|537.319| 1365.668|  0.0042|0.266|\n",
      "|2007|   12|-1.168|383.89|1805.58|321.217|246.261|537.052|1365.6927|   0.004|0.226|\n",
      "|2008|    1|-1.011|385.44|1809.92|321.328|246.183|536.876|1365.7163|  0.0038|0.074|\n",
      "|2008|    2|-1.402|385.73|1803.45|321.345|245.898|536.484|1365.7366|  0.0036|0.198|\n",
      "|2008|    3|-1.635|385.97|1792.84|321.295| 245.43|535.979|1365.6726|  0.0034|0.447|\n",
      "|2008|    4|-0.942|387.16|1792.57|321.354|245.086|535.648|1365.7146|  0.0033|0.278|\n",
      "|2008|    5|-0.355| 388.5|1796.43| 321.42|244.914|535.399|1365.7175|  0.0031|0.283|\n",
      "|2008|    6| 0.128|387.88| 1791.8|321.447|244.676|535.128| 1365.673|  0.0031|0.315|\n",
      "|2008|    7| 0.003|386.42|1782.93|321.372|244.434|535.026| 1365.672|  0.0033|0.406|\n",
      "|2008|    8|-0.266|384.15|1779.88|321.405|  244.2|535.072| 1365.657|  0.0036|0.407|\n",
      "+----+-----+------+------+-------+-------+-------+-------+---------+--------+-----+\n",
      "only showing top 20 rows\n",
      "\n"
     ]
    }
   ],
   "source": [
    "from pyspark.sql.functions import col\n",
    "df_train = base.where(col('Year') <= 2006) \n",
    "df_test = base.where(col('Year')>2006)\n",
    "df_train.show()\n",
    "df_test.show()"
   ]
  },
  {
   "cell_type": "code",
   "execution_count": 23,
   "metadata": {
    "scrolled": true
   },
   "outputs": [
    {
     "name": "stdout",
     "output_type": "stream",
     "text": [
      "Coefficients: [0.06420531326591102,0.006457359294170654,0.00012404189957649487,-0.0165280033609315,-0.006630488896080285,0.003808103247995261,0.09314108244845155,-1.5376132353114387]\n",
      "Intercept: -124.59425896818887\n",
      "RMSE: 0.090247\n",
      "r2: 0.750893\n",
      "[0.0, 0.00505252047244098, 0.810145546547842, 0.05466931039549405, 5.957287568936209e-05, 0.00020971989521445522, 1.0959446683500573e-09, 5.411227022023013e-12, 1.4310466145417422e-09]\n"
     ]
    }
   ],
   "source": [
    "from pyspark.ml.regression import LinearRegression\n",
    "from pyspark.ml.linalg import Vectors\n",
    "from pyspark.ml.feature import VectorAssembler\n",
    "from pyspark.ml.feature import StandardScaler\n",
    "feature_cols=['MEI', 'CO2', 'CH4', 'N2O', 'CFC-11', 'CFC-12', 'TSI', 'Aerosols']\n",
    "\n",
    "assembler = VectorAssembler(inputCols=feature_cols,outputCol=\"features\")\n",
    "for_training_df = assembler.transform(df_train)\n",
    "scaler = StandardScaler(inputCol=\"features\", outputCol=\"scaledFeatures\",\n",
    "                        withStd=True, withMean=True)\n",
    "\n",
    "# Compute summary statistics by fitting the StandardScaler\n",
    "scalerModel = scaler.fit(for_training_df)\n",
    "\n",
    "# Normalize each feature to have unit standard deviation.\n",
    "scaledData = scalerModel.transform(for_training_df)\n",
    "\n",
    "lr = LinearRegression(featuresCol = \"features\", labelCol='Temp', maxIter=100, regParam=0.0, elasticNetParam=0.8)\n",
    "lr_model = lr.fit(scaledData)\n",
    "print(\"Coefficients: \" + str(lr_model.coefficients))\n",
    "print(\"Intercept: \" + str(lr_model.intercept))\n",
    "trainingSummary = lr_model.summary\n",
    "print(\"RMSE: %f\" % trainingSummary.rootMeanSquaredError)\n",
    "print(\"r2: %f\" % trainingSummary.r2)\n",
    "print(trainingSummary.pValues)"
   ]
  },
  {
   "cell_type": "code",
   "execution_count": null,
   "metadata": {},
   "outputs": [],
   "source": []
  }
 ],
 "metadata": {
  "kernelspec": {
   "display_name": "Python 3",
   "language": "python",
   "name": "python3"
  },
  "language_info": {
   "codemirror_mode": {
    "name": "ipython",
    "version": 3
   },
   "file_extension": ".py",
   "mimetype": "text/x-python",
   "name": "python",
   "nbconvert_exporter": "python",
   "pygments_lexer": "ipython3",
   "version": "3.7.4"
  }
 },
 "nbformat": 4,
 "nbformat_minor": 2
}
