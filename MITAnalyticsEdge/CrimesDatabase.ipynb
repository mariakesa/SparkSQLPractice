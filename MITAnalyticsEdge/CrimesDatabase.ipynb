{
 "cells": [
  {
   "cell_type": "code",
   "execution_count": 14,
   "metadata": {
    "scrolled": true
   },
   "outputs": [
    {
     "name": "stdout",
     "output_type": "stream",
     "text": [
      "Row(ID=8951354, Date='12/31/12 23:15', LocationDescription='STREET', Arrest=False, Domestic=False, Beat=623, District='6', CommunityArea='69', Year=2012, Latitude=41.75628399, Longitude=-87.62164472)\n",
      "root\n",
      " |-- ID: integer (nullable = true)\n",
      " |-- Date: string (nullable = true)\n",
      " |-- LocationDescription: string (nullable = true)\n",
      " |-- Arrest: boolean (nullable = true)\n",
      " |-- Domestic: boolean (nullable = true)\n",
      " |-- Beat: integer (nullable = true)\n",
      " |-- District: string (nullable = true)\n",
      " |-- CommunityArea: string (nullable = true)\n",
      " |-- Year: integer (nullable = true)\n",
      " |-- Latitude: double (nullable = true)\n",
      " |-- Longitude: double (nullable = true)\n",
      "\n",
      "None\n",
      "['ID', 'Date', 'LocationDescription', 'Arrest', 'Domestic', 'Beat', 'District', 'CommunityArea', 'Year', 'Latitude', 'Longitude']\n"
     ]
    }
   ],
   "source": [
    "from pyspark.sql.types import *\n",
    "\n",
    "from pyspark.sql import SparkSession\n",
    "\n",
    "spark = SparkSession \\\n",
    "    .builder \\\n",
    "    .appName(\"HousingPrices\") \\\n",
    "    .config(\"spark.some.config.option\", \"some-value\") \\\n",
    "    .getOrCreate()\n",
    "\n",
    "\n",
    "\n",
    "base = spark.read.csv(\"file:///home/maria/Documents/SparkSQLPractice/MITAnalyticsEdge/mvtWeek1.csv\",inferSchema=True,header=True)\n",
    "print(base.head())\n",
    "print(base.printSchema())\n",
    "print(base.columns)"
   ]
  },
  {
   "cell_type": "code",
   "execution_count": 2,
   "metadata": {},
   "outputs": [
    {
     "data": {
      "text/plain": [
       "'\\nID: a unique identifier for each observation\\nDate: the date the crime occurred\\nLocationDescription: the location where the crime occurred\\nArrest: whether or not an arrest was made for the crime (TRUE if an arrest was made, and FALSE if an arrest was not made)\\nDomestic: whether or not the crime was a domestic crime, meaning that it was committed against a family member (TRUE if it was domestic, and FALSE if it was not domestic)\\nBeat: the area, or \"beat\" in which the crime occurred. This is the smallest regional division defined by the Chicago police department.\\nDistrict: the police district in which the crime occured. Each district is composed of many beats, and are defined by the Chicago Police Department.\\nCommunityArea: the community area in which the crime occurred. Since the 1920s, Chicago has been divided into what are called \"community areas\", of which there are now 77. The community areas were devised in an attempt to create socially homogeneous regions.\\nYear: the year in which the crime occurred.\\nLatitude: the latitude of the location at which the crime occurred.\\nLongitude: the longitude of the location at which the crime occurred.\\n'"
      ]
     },
     "execution_count": 2,
     "metadata": {},
     "output_type": "execute_result"
    }
   ],
   "source": [
    "'''\n",
    "ID: a unique identifier for each observation\n",
    "Date: the date the crime occurred\n",
    "LocationDescription: the location where the crime occurred\n",
    "Arrest: whether or not an arrest was made for the crime (TRUE if an arrest was made, and FALSE if an arrest was not made)\n",
    "Domestic: whether or not the crime was a domestic crime, meaning that it was committed against a family member (TRUE if it was domestic, and FALSE if it was not domestic)\n",
    "Beat: the area, or \"beat\" in which the crime occurred. This is the smallest regional division defined by the Chicago police department.\n",
    "District: the police district in which the crime occured. Each district is composed of many beats, and are defined by the Chicago Police Department.\n",
    "CommunityArea: the community area in which the crime occurred. Since the 1920s, Chicago has been divided into what are called \"community areas\", of which there are now 77. The community areas were devised in an attempt to create socially homogeneous regions.\n",
    "Year: the year in which the crime occurred.\n",
    "Latitude: the latitude of the location at which the crime occurred.\n",
    "Longitude: the longitude of the location at which the crime occurred.\n",
    "'''"
   ]
  },
  {
   "cell_type": "code",
   "execution_count": 3,
   "metadata": {},
   "outputs": [
    {
     "name": "stdout",
     "output_type": "stream",
     "text": [
      "+------+\n",
      "| row_n|\n",
      "+------+\n",
      "|191641|\n",
      "+------+\n",
      "\n",
      "None\n"
     ]
    }
   ],
   "source": [
    "base.createOrReplaceTempView(\"crimes\")\n",
    "#Number of rows in data\n",
    "qur = spark.sql(\"SELECT COUNT(*) as row_n FROM crimes\")\n",
    "print(qur.show())"
   ]
  },
  {
   "cell_type": "code",
   "execution_count": 4,
   "metadata": {},
   "outputs": [
    {
     "name": "stdout",
     "output_type": "stream",
     "text": [
      "11\n"
     ]
    }
   ],
   "source": [
    "#Number of columns in data\n",
    "print(len(base.columns))"
   ]
  },
  {
   "cell_type": "code",
   "execution_count": 5,
   "metadata": {},
   "outputs": [
    {
     "name": "stdout",
     "output_type": "stream",
     "text": [
      "+-------+\n",
      "| max_id|\n",
      "+-------+\n",
      "|9181151|\n",
      "+-------+\n",
      "\n",
      "None\n"
     ]
    }
   ],
   "source": [
    "#Max ID\n",
    "qur_max=spark.sql(\"SELECT MAX(ID) as max_id FROM crimes\")\n",
    "print(qur_max.show())"
   ]
  },
  {
   "cell_type": "code",
   "execution_count": 6,
   "metadata": {},
   "outputs": [
    {
     "name": "stdout",
     "output_type": "stream",
     "text": [
      "+--------+\n",
      "|min_beat|\n",
      "+--------+\n",
      "|     111|\n",
      "+--------+\n",
      "\n",
      "None\n"
     ]
    }
   ],
   "source": [
    "#Min Beat\n",
    "qur_min=spark.sql(\"SELECT MIN(Beat) as min_beat FROM crimes\")\n",
    "print(qur_min.show())"
   ]
  },
  {
   "cell_type": "code",
   "execution_count": 7,
   "metadata": {
    "scrolled": true
   },
   "outputs": [
    {
     "name": "stdout",
     "output_type": "stream",
     "text": [
      "+----------+\n",
      "|nr_arrests|\n",
      "+----------+\n",
      "|     15536|\n",
      "+----------+\n",
      "\n",
      "None\n"
     ]
    }
   ],
   "source": [
    "#Nr of crimes with arrest\n",
    "qur_arr=spark.sql(\"SELECT COUNT(*) as nr_arrests FROM crimes WHERE Arrest=TRUE\")\n",
    "print(qur_arr.show())"
   ]
  },
  {
   "cell_type": "code",
   "execution_count": 8,
   "metadata": {},
   "outputs": [
    {
     "name": "stdout",
     "output_type": "stream",
     "text": [
      "+----------+\n",
      "|nr_arrests|\n",
      "+----------+\n",
      "|      2308|\n",
      "+----------+\n",
      "\n",
      "None\n"
     ]
    }
   ],
   "source": [
    "#How many observations have a LocationDescription value of ALLEY?\n",
    "qur_all=spark.sql(\"SELECT COUNT(*) as nr_arrests FROM crimes WHERE LocationDescription='ALLEY'\")\n",
    "print(qur_all.show())"
   ]
  },
  {
   "cell_type": "code",
   "execution_count": 31,
   "metadata": {},
   "outputs": [
    {
     "name": "stdout",
     "output_type": "stream",
     "text": [
      "+--------------+\n",
      "|Date          |\n",
      "+--------------+\n",
      "|12/31/12 23:15|\n",
      "|12/31/12 22:00|\n",
      "|12/31/12 22:00|\n",
      "|12/31/12 22:00|\n",
      "|12/31/12 21:30|\n",
      "|12/31/12 20:30|\n",
      "|12/31/12 20:10|\n",
      "|12/31/12 20:00|\n",
      "|12/31/12 19:00|\n",
      "|12/31/12 18:00|\n",
      "+--------------+\n",
      "only showing top 10 rows\n",
      "\n",
      "None\n",
      "+-------+\n",
      "|Weekday|\n",
      "+-------+\n",
      "|      0|\n",
      "|      0|\n",
      "|      0|\n",
      "|      0|\n",
      "|      0|\n",
      "|      0|\n",
      "|      0|\n",
      "|      0|\n",
      "|      0|\n",
      "|      0|\n",
      "|      0|\n",
      "|      0|\n",
      "|      0|\n",
      "|      0|\n",
      "|      0|\n",
      "|      0|\n",
      "|      0|\n",
      "|      0|\n",
      "|      0|\n",
      "|      0|\n",
      "|      0|\n",
      "|      0|\n",
      "|      0|\n",
      "|      0|\n",
      "|      0|\n",
      "|      0|\n",
      "|      0|\n",
      "|      0|\n",
      "|      0|\n",
      "|      0|\n",
      "|      0|\n",
      "|      0|\n",
      "|      0|\n",
      "|      0|\n",
      "|      0|\n",
      "|      0|\n",
      "|      0|\n",
      "|      0|\n",
      "|      0|\n",
      "|      0|\n",
      "|      6|\n",
      "|      6|\n",
      "|      6|\n",
      "|      6|\n",
      "|      6|\n",
      "|      6|\n",
      "|      6|\n",
      "|      6|\n",
      "|      6|\n",
      "|      6|\n",
      "|      6|\n",
      "|      6|\n",
      "|      6|\n",
      "|      6|\n",
      "|      6|\n",
      "|      6|\n",
      "|      6|\n",
      "|      6|\n",
      "|      6|\n",
      "|      6|\n",
      "|      6|\n",
      "|      6|\n",
      "|      6|\n",
      "|      6|\n",
      "|      6|\n",
      "|      6|\n",
      "|      6|\n",
      "|      6|\n",
      "|      6|\n",
      "|      6|\n",
      "|      6|\n",
      "|      6|\n",
      "|      6|\n",
      "|      6|\n",
      "|      6|\n",
      "|      6|\n",
      "|      6|\n",
      "|      6|\n",
      "|      6|\n",
      "|      6|\n",
      "|      6|\n",
      "|      6|\n",
      "|      6|\n",
      "|      6|\n",
      "|      6|\n",
      "|      6|\n",
      "|      5|\n",
      "|      5|\n",
      "|      5|\n",
      "|      5|\n",
      "|      5|\n",
      "|      5|\n",
      "|      5|\n",
      "|      5|\n",
      "|      5|\n",
      "|      5|\n",
      "|      5|\n",
      "|      5|\n",
      "|      5|\n",
      "|      5|\n",
      "+-------+\n",
      "only showing top 100 rows\n",
      "\n",
      "+-----+\n",
      "|Month|\n",
      "+-----+\n",
      "|   12|\n",
      "|   12|\n",
      "|   12|\n",
      "|   12|\n",
      "|   12|\n",
      "|   12|\n",
      "|   12|\n",
      "|   12|\n",
      "|   12|\n",
      "|   12|\n",
      "|   12|\n",
      "|   12|\n",
      "|   12|\n",
      "|   12|\n",
      "|   12|\n",
      "|   12|\n",
      "|   12|\n",
      "|   12|\n",
      "|   12|\n",
      "|   12|\n",
      "|   12|\n",
      "|   12|\n",
      "|   12|\n",
      "|   12|\n",
      "|   12|\n",
      "|   12|\n",
      "|   12|\n",
      "|   12|\n",
      "|   12|\n",
      "|   12|\n",
      "|   12|\n",
      "|   12|\n",
      "|   12|\n",
      "|   12|\n",
      "|   12|\n",
      "|   12|\n",
      "|   12|\n",
      "|   12|\n",
      "|   12|\n",
      "|   12|\n",
      "|   12|\n",
      "|   12|\n",
      "|   12|\n",
      "|   12|\n",
      "|   12|\n",
      "|   12|\n",
      "|   12|\n",
      "|   12|\n",
      "|   12|\n",
      "|   12|\n",
      "|   12|\n",
      "|   12|\n",
      "|   12|\n",
      "|   12|\n",
      "|   12|\n",
      "|   12|\n",
      "|   12|\n",
      "|   12|\n",
      "|   12|\n",
      "|   12|\n",
      "|   12|\n",
      "|   12|\n",
      "|   12|\n",
      "|   12|\n",
      "|   12|\n",
      "|   12|\n",
      "|   12|\n",
      "|   12|\n",
      "|   12|\n",
      "|   12|\n",
      "|   12|\n",
      "|   12|\n",
      "|   12|\n",
      "|   12|\n",
      "|   12|\n",
      "|   12|\n",
      "|   12|\n",
      "|   12|\n",
      "|   12|\n",
      "|   12|\n",
      "|   12|\n",
      "|   12|\n",
      "|   12|\n",
      "|   12|\n",
      "|   12|\n",
      "|   12|\n",
      "|   12|\n",
      "|   12|\n",
      "|   12|\n",
      "|   12|\n",
      "|   12|\n",
      "|   12|\n",
      "|   12|\n",
      "|   12|\n",
      "|   12|\n",
      "|   12|\n",
      "|   12|\n",
      "|   12|\n",
      "|   12|\n",
      "|   12|\n",
      "+-----+\n",
      "only showing top 100 rows\n",
      "\n",
      "+-------+-----+\n",
      "|Weekday|count|\n",
      "+-------+-----+\n",
      "|      3|27319|\n",
      "|      0|27397|\n",
      "|      5|27118|\n",
      "|      6|26316|\n",
      "|      1|26791|\n",
      "|      4|29284|\n",
      "|      2|27416|\n",
      "+-------+-----+\n",
      "\n",
      "+-----+-----+\n",
      "|Month|count|\n",
      "+-----+-----+\n",
      "|    7|16801|\n",
      "|   11|16063|\n",
      "|    3|15758|\n",
      "|    8|16572|\n",
      "|    5|16035|\n",
      "|    6|16002|\n",
      "|    9|16060|\n",
      "|    1|16047|\n",
      "|   10|17086|\n",
      "|    4|15280|\n",
      "|   12|16426|\n",
      "|    2|13511|\n",
      "+-----+-----+\n",
      "\n"
     ]
    }
   ],
   "source": [
    "from pyspark.sql.functions import unix_timestamp, from_unixtime, date_format,to_date\n",
    "from datetime import datetime\n",
    "\n",
    "from datetime import datetime\n",
    "from pyspark.sql.functions import col,udf\n",
    "\n",
    "#qur_all=spark.sql(\"SELECT Date as date FROM crimes\")\n",
    "#qur_all.show()\n",
    "\n",
    "\n",
    "print(base.select(\"Date\").show(10, truncate = False))\n",
    "\n",
    "myfunc =  udf(lambda x: datetime.strptime(x, '%m/%d/%y %H:%M'), TimestampType())\n",
    "weekd_func=udf(lambda x: x.weekday())\n",
    "month_func=udf(lambda x: x.month)\n",
    "df = base.withColumn('Weekday', weekd_func(myfunc(col('Date'))))\n",
    "df_month=base.withColumn('Month', month_func(myfunc(col('Date'))))\n",
    "#df['Month']\n",
    "df.select(df[\"Weekday\"]).show(100)\n",
    "df_month.select(df_month[\"Month\"]).show(100)\n",
    "\n",
    "df.groupBy(\"Weekday\").count().show()\n",
    "df_month.groupBy(\"Month\").count().show()\n",
    "#https://datascience-enthusiast.com/Python/DataFramesVsRDDsVsSQLSpark-Part5.html\n",
    "#http://www.dbaglobe.com/2019/03/python-date-time-string-format.html\n"
   ]
  },
  {
   "cell_type": "code",
   "execution_count": null,
   "metadata": {},
   "outputs": [],
   "source": []
  }
 ],
 "metadata": {
  "kernelspec": {
   "display_name": "Python 3",
   "language": "python",
   "name": "python3"
  },
  "language_info": {
   "codemirror_mode": {
    "name": "ipython",
    "version": 3
   },
   "file_extension": ".py",
   "mimetype": "text/x-python",
   "name": "python",
   "nbconvert_exporter": "python",
   "pygments_lexer": "ipython3",
   "version": "3.7.4"
  }
 },
 "nbformat": 4,
 "nbformat_minor": 2
}
