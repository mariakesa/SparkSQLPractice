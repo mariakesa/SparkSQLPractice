{
 "cells": [
  {
   "cell_type": "code",
   "execution_count": 11,
   "metadata": {
    "scrolled": true
   },
   "outputs": [
    {
     "name": "stdout",
     "output_type": "stream",
     "text": [
      "Row(sex=0, yob=1941, voting=0, hawthorne=0, civicduty=1, neighbors=0, self=0, control=0)\n",
      "root\n",
      " |-- sex: integer (nullable = true)\n",
      " |-- yob: integer (nullable = true)\n",
      " |-- voting: integer (nullable = true)\n",
      " |-- hawthorne: integer (nullable = true)\n",
      " |-- civicduty: integer (nullable = true)\n",
      " |-- neighbors: integer (nullable = true)\n",
      " |-- self: integer (nullable = true)\n",
      " |-- control: integer (nullable = true)\n",
      "\n",
      "None\n",
      "['sex', 'yob', 'voting', 'hawthorne', 'civicduty', 'neighbors', 'self', 'control']\n"
     ]
    }
   ],
   "source": [
    "from pyspark.sql.types import *\n",
    "\n",
    "from pyspark.sql import SparkSession\n",
    "\n",
    "spark = SparkSession \\\n",
    "    .builder \\\n",
    "    .appName(\"HousingPrices\") \\\n",
    "    .config(\"spark.some.config.option\", \"some-value\") \\\n",
    "    .getOrCreate()\n",
    "\n",
    "\n",
    "\n",
    "garber = spark.read.csv(\"file:///home/maria/Documents/SparkSQLPractice/gerber.csv\",inferSchema=True,header=True)\n",
    "print(garber.head())\n",
    "print(garber.printSchema())\n",
    "print(garber.columns)"
   ]
  },
  {
   "cell_type": "code",
   "execution_count": 9,
   "metadata": {},
   "outputs": [
    {
     "name": "stdout",
     "output_type": "stream",
     "text": [
      "+----+-----+\n",
      "| yob|yob_n|\n",
      "+----+-----+\n",
      "|1959|10416|\n",
      "|1903|    1|\n",
      "|1975| 2283|\n",
      "|1977| 2108|\n",
      "|1924| 1061|\n",
      "|1974| 2569|\n",
      "|1927| 1454|\n",
      "|1955|10230|\n",
      "|1978| 2148|\n",
      "|1925| 1229|\n",
      "|1908|   15|\n",
      "|1961|10211|\n",
      "|1942| 5651|\n",
      "|1939| 3778|\n",
      "|1944| 5705|\n",
      "|1902|    2|\n",
      "|1922|  805|\n",
      "|1952| 9576|\n",
      "|1956|10617|\n",
      "|1934| 2477|\n",
      "+----+-----+\n",
      "only showing top 20 rows\n",
      "\n",
      "None\n"
     ]
    }
   ],
   "source": [
    "base.createOrReplaceTempView(\"garber\")\n",
    "#Number of rows in data\n",
    "qur = spark.sql(\"SELECT yob, COUNT(*) AS yob_n FROM garber GROUP BY yob\")\n",
    "print(qur.show())"
   ]
  },
  {
   "cell_type": "code",
   "execution_count": 10,
   "metadata": {
    "scrolled": true
   },
   "outputs": [
    {
     "data": {
      "text/plain": [
       "pyspark.sql.dataframe.DataFrame"
      ]
     },
     "execution_count": 10,
     "metadata": {},
     "output_type": "execute_result"
    }
   ],
   "source": [
    "type(garber)"
   ]
  },
  {
   "cell_type": "code",
   "execution_count": 16,
   "metadata": {},
   "outputs": [
    {
     "name": "stdout",
     "output_type": "stream",
     "text": [
      "+---+----+------+---------+---------+---------+----+-------+\n",
      "|sex| yob|voting|hawthorne|civicduty|neighbors|self|control|\n",
      "+---+----+------+---------+---------+---------+----+-------+\n",
      "|  1|1959|     1|        0|        0|        0|   0|      1|\n",
      "|  0|1956|     1|        0|        0|        0|   0|      1|\n",
      "|  0|1981|     0|        0|        0|        0|   0|      1|\n",
      "|  1|1968|     0|        0|        0|        0|   0|      1|\n",
      "|  0|1967|     0|        0|        0|        0|   0|      1|\n",
      "|  0|1941|     1|        0|        0|        0|   0|      1|\n",
      "|  1|1969|     0|        0|        0|        0|   0|      1|\n",
      "|  0|1961|     1|        0|        0|        0|   0|      1|\n",
      "|  1|1967|     1|        0|        0|        0|   0|      1|\n",
      "|  1|1943|     1|        0|        0|        0|   0|      1|\n",
      "|  1|1971|     1|        0|        0|        0|   0|      1|\n",
      "|  0|1968|     1|        0|        0|        0|   0|      1|\n",
      "|  0|1979|     0|        0|        0|        0|   0|      1|\n",
      "|  1|1959|     0|        0|        0|        0|   0|      1|\n",
      "|  1|1983|     0|        0|        0|        0|   0|      1|\n",
      "|  0|1954|     0|        0|        0|        0|   0|      1|\n",
      "|  1|1958|     0|        0|        0|        0|   0|      1|\n",
      "|  0|1949|     0|        0|        0|        0|   0|      1|\n",
      "|  1|1961|     0|        0|        0|        0|   0|      1|\n",
      "|  1|1968|     0|        0|        0|        0|   0|      1|\n",
      "+---+----+------+---------+---------+---------+----+-------+\n",
      "only showing top 20 rows\n",
      "\n",
      "+---+----+------+---------+---------+---------+----+-------+\n",
      "|sex| yob|voting|hawthorne|civicduty|neighbors|self|control|\n",
      "+---+----+------+---------+---------+---------+----+-------+\n",
      "|  1|1959|     1|        0|        0|        0|   0|      1|\n",
      "|  0|1956|     1|        0|        0|        0|   0|      1|\n",
      "|  0|1981|     0|        0|        0|        0|   0|      1|\n",
      "|  1|1968|     0|        0|        0|        0|   0|      1|\n",
      "|  0|1967|     0|        0|        0|        0|   0|      1|\n",
      "|  0|1941|     1|        0|        0|        0|   0|      1|\n",
      "|  1|1969|     0|        0|        0|        0|   0|      1|\n",
      "|  0|1961|     1|        0|        0|        0|   0|      1|\n",
      "|  1|1967|     1|        0|        0|        0|   0|      1|\n",
      "|  1|1943|     1|        0|        0|        0|   0|      1|\n",
      "|  1|1971|     1|        0|        0|        0|   0|      1|\n",
      "|  0|1968|     1|        0|        0|        0|   0|      1|\n",
      "|  0|1979|     0|        0|        0|        0|   0|      1|\n",
      "|  1|1959|     0|        0|        0|        0|   0|      1|\n",
      "|  1|1983|     0|        0|        0|        0|   0|      1|\n",
      "|  0|1954|     0|        0|        0|        0|   0|      1|\n",
      "|  1|1958|     0|        0|        0|        0|   0|      1|\n",
      "|  0|1949|     0|        0|        0|        0|   0|      1|\n",
      "|  1|1961|     0|        0|        0|        0|   0|      1|\n",
      "|  1|1968|     0|        0|        0|        0|   0|      1|\n",
      "+---+----+------+---------+---------+---------+----+-------+\n",
      "only showing top 20 rows\n",
      "\n"
     ]
    }
   ],
   "source": [
    "#Two equivalent ways of filtering\n",
    "garber.filter(\"control==1\").show()\n",
    "garber.filter(garber.control==1).show()"
   ]
  }
 ],
 "metadata": {
  "kernelspec": {
   "display_name": "Python 3",
   "language": "python",
   "name": "python3"
  },
  "language_info": {
   "codemirror_mode": {
    "name": "ipython",
    "version": 3
   },
   "file_extension": ".py",
   "mimetype": "text/x-python",
   "name": "python",
   "nbconvert_exporter": "python",
   "pygments_lexer": "ipython3",
   "version": "3.7.4"
  }
 },
 "nbformat": 4,
 "nbformat_minor": 4
}
