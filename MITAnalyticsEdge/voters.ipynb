{
 "cells": [
  {
   "cell_type": "code",
   "execution_count": 1,
   "metadata": {
    "scrolled": true
   },
   "outputs": [
    {
     "name": "stdout",
     "output_type": "stream",
     "text": [
      "Row(sex=0, yob=1941, voting=0, hawthorne=0, civicduty=1, neighbors=0, self=0, control=0)\n",
      "root\n",
      " |-- sex: integer (nullable = true)\n",
      " |-- yob: integer (nullable = true)\n",
      " |-- voting: integer (nullable = true)\n",
      " |-- hawthorne: integer (nullable = true)\n",
      " |-- civicduty: integer (nullable = true)\n",
      " |-- neighbors: integer (nullable = true)\n",
      " |-- self: integer (nullable = true)\n",
      " |-- control: integer (nullable = true)\n",
      "\n",
      "None\n",
      "['sex', 'yob', 'voting', 'hawthorne', 'civicduty', 'neighbors', 'self', 'control']\n"
     ]
    }
   ],
   "source": [
    "from pyspark.sql.types import *\n",
    "\n",
    "from pyspark.sql import SparkSession\n",
    "\n",
    "spark = SparkSession \\\n",
    "    .builder \\\n",
    "    .appName(\"HousingPrices\") \\\n",
    "    .config(\"spark.some.config.option\", \"some-value\") \\\n",
    "    .getOrCreate()\n",
    "\n",
    "\n",
    "\n",
    "base = spark.read.csv(\"file:///home/maria/Documents/SparkSQLPractice/gerber.csv\",inferSchema=True,header=True)\n",
    "print(base.head())\n",
    "print(base.printSchema())\n",
    "print(base.columns)"
   ]
  },
  {
   "cell_type": "code",
   "execution_count": 4,
   "metadata": {},
   "outputs": [
    {
     "name": "stdout",
     "output_type": "stream",
     "text": [
      "+-----+\n",
      "|yob_n|\n",
      "+-----+\n",
      "|10416|\n",
      "|    1|\n",
      "| 2283|\n",
      "| 2108|\n",
      "| 1061|\n",
      "| 2569|\n",
      "| 1454|\n",
      "|10230|\n",
      "| 2148|\n",
      "| 1229|\n",
      "|   15|\n",
      "|10211|\n",
      "| 5651|\n",
      "| 3778|\n",
      "| 5705|\n",
      "|    2|\n",
      "|  805|\n",
      "| 9576|\n",
      "|10617|\n",
      "| 2477|\n",
      "+-----+\n",
      "only showing top 20 rows\n",
      "\n",
      "None\n"
     ]
    }
   ],
   "source": [
    "base.createOrReplaceTempView(\"garber\")\n",
    "#Number of rows in data\n",
    "qur = spark.sql(\"SELECT COUNT(*) as yob_n FROM garber GROUP BY yob\")\n",
    "print(qur.show())"
   ]
  }
 ],
 "metadata": {
  "kernelspec": {
   "display_name": "Python 3",
   "language": "python",
   "name": "python3"
  },
  "language_info": {
   "codemirror_mode": {
    "name": "ipython",
    "version": 3
   },
   "file_extension": ".py",
   "mimetype": "text/x-python",
   "name": "python",
   "nbconvert_exporter": "python",
   "pygments_lexer": "ipython3",
   "version": "3.7.4"
  }
 },
 "nbformat": 4,
 "nbformat_minor": 4
}
